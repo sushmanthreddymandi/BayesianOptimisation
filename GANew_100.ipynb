{
 "cells": [
  {
   "cell_type": "code",
   "execution_count": 1,
   "id": "99e42345-bb0d-4e1e-a097-0987f236d904",
   "metadata": {},
   "outputs": [],
   "source": [
    "import optuna\n",
    "from obj import *"
   ]
  },
  {
   "cell_type": "code",
   "execution_count": 2,
   "id": "afa6c290-a048-42d4-b36c-e59f6a62ed47",
   "metadata": {},
   "outputs": [
    {
     "name": "stderr",
     "output_type": "stream",
     "text": [
      "[I 2024-04-03 08:07:15,626] A new study created in memory with name: no-name-e13c9ff1-97b6-48b2-827e-c75cb45c9771\n"
     ]
    },
    {
     "name": "stdout",
     "output_type": "stream",
     "text": [
      "----------------------- 100 ------------------------------\n"
     ]
    },
    {
     "name": "stderr",
     "output_type": "stream",
     "text": [
      "[I 2024-04-03 08:38:10,176] Trial 0 finished with value: 1073.3490489474498 and parameters: {'mp': 0.07497598761710622, 'gmp': 0.10997227472595812, 'select': 1, 'cp': 0.8306597015037901}. Best is trial 0 with value: 1073.3490489474498.\n",
      "[I 2024-04-03 09:12:41,056] Trial 1 finished with value: 849.6280205297904 and parameters: {'mp': 0.11018458827243742, 'gmp': 0.0893875442848992, 'select': 2, 'cp': 0.8336259614142582}. Best is trial 1 with value: 849.6280205297904.\n",
      "[I 2024-04-03 10:00:46,679] Trial 2 finished with value: 840.1125299418345 and parameters: {'mp': 0.04892062827228895, 'gmp': 0.08087553551750479, 'select': 5, 'cp': 0.9828115077913067}. Best is trial 2 with value: 840.1125299418345.\n",
      "[I 2024-04-03 10:48:39,077] Trial 3 finished with value: 831.8728261000166 and parameters: {'mp': 0.14931854181089567, 'gmp': 0.19945089756032116, 'select': 2, 'cp': 0.9504944755548059}. Best is trial 3 with value: 831.8728261000166.\n",
      "[I 2024-04-03 11:27:44,159] Trial 4 finished with value: 840.0729139968753 and parameters: {'mp': 0.17308074819129626, 'gmp': 0.10232668404372075, 'select': 3, 'cp': 0.8455316434827294}. Best is trial 3 with value: 831.8728261000166.\n",
      "[I 2024-04-03 12:17:07,709] Trial 5 finished with value: 833.2729880333258 and parameters: {'mp': 0.10874951830370923, 'gmp': 0.20237314981690005, 'select': 4, 'cp': 0.8015638454324738}. Best is trial 3 with value: 831.8728261000166.\n",
      "[I 2024-04-03 13:00:21,867] Trial 6 finished with value: 845.4614829908436 and parameters: {'mp': 0.24571230485354165, 'gmp': 0.12316760138799046, 'select': 4, 'cp': 0.9014279305516256}. Best is trial 3 with value: 831.8728261000166.\n",
      "[I 2024-04-03 13:39:00,512] Trial 7 finished with value: 867.345623221714 and parameters: {'mp': 0.245036431551223, 'gmp': 0.20882473774605673, 'select': 2, 'cp': 0.9248286959696551}. Best is trial 3 with value: 831.8728261000166.\n",
      "[I 2024-04-03 14:32:43,778] Trial 8 finished with value: 842.1169437194864 and parameters: {'mp': 0.0510843642843452, 'gmp': 0.23373143393166004, 'select': 5, 'cp': 0.9125048586406037}. Best is trial 3 with value: 831.8728261000166.\n",
      "[I 2024-04-03 15:12:38,668] Trial 9 finished with value: 833.5230941977352 and parameters: {'mp': 0.12927832083487142, 'gmp': 0.16595760458870898, 'select': 3, 'cp': 0.8076215592392865}. Best is trial 3 with value: 831.8728261000166.\n"
     ]
    },
    {
     "name": "stdout",
     "output_type": "stream",
     "text": [
      "Best hyperparameters: {'mp': 0.14931854181089567, 'gmp': 0.19945089756032116, 'select': 2, 'cp': 0.9504944755548059}\n"
     ]
    }
   ],
   "source": [
    "# Perform Bayesian optimization\n",
    "print('-----------------------',100,'------------------------------')\n",
    "study = optuna.create_study(direction='minimize')\n",
    "study.optimize(lambda trial: objective(trial, 100), n_trials=10)\n",
    "# Get the best hyperparameters\n",
    "best_params = study.best_params\n",
    "print(\"Best hyperparameters:\", best_params)"
   ]
  },
  {
   "cell_type": "code",
   "execution_count": null,
   "id": "6144ca06-7d93-43ab-923f-411be9947c23",
   "metadata": {},
   "outputs": [],
   "source": []
  }
 ],
 "metadata": {
  "kernelspec": {
   "display_name": "Python 3 (ipykernel)",
   "language": "python",
   "name": "python3"
  },
  "language_info": {
   "codemirror_mode": {
    "name": "ipython",
    "version": 3
   },
   "file_extension": ".py",
   "mimetype": "text/x-python",
   "name": "python",
   "nbconvert_exporter": "python",
   "pygments_lexer": "ipython3",
   "version": "3.9.6"
  }
 },
 "nbformat": 4,
 "nbformat_minor": 5
}
